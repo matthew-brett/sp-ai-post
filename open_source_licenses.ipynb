{
 "cells": [
  {
   "cell_type": "markdown",
   "id": "1f995f70",
   "metadata": {},
   "source": [
    "# License for code pushes on Github 2020 - 2024"
   ]
  },
  {
   "cell_type": "markdown",
   "id": "38993b01",
   "metadata": {},
   "source": [
    "See:\n",
    "\n",
    "* <https://github.blog/news-insights/policy-news-and-insights/racing-into-2025-with-new-github-innovation-graph-data/>\n",
    "* <https://github.com/github/innovationgraph/blob/main/docs/datasheet.md>"
   ]
  },
  {
   "cell_type": "code",
   "execution_count": 1,
   "id": "7abd41c4",
   "metadata": {},
   "outputs": [],
   "source": [
    "import matplotlib.pyplot as plt\n",
    "import pandas as pd"
   ]
  },
  {
   "cell_type": "code",
   "execution_count": 2,
   "id": "056004f8",
   "metadata": {},
   "outputs": [
    {
     "data": {
      "text/html": [
       "<div>\n",
       "<style scoped>\n",
       "    .dataframe tbody tr th:only-of-type {\n",
       "        vertical-align: middle;\n",
       "    }\n",
       "\n",
       "    .dataframe tbody tr th {\n",
       "        vertical-align: top;\n",
       "    }\n",
       "\n",
       "    .dataframe thead th {\n",
       "        text-align: right;\n",
       "    }\n",
       "</style>\n",
       "<table border=\"1\" class=\"dataframe\">\n",
       "  <thead>\n",
       "    <tr style=\"text-align: right;\">\n",
       "      <th></th>\n",
       "      <th>0</th>\n",
       "      <th>1</th>\n",
       "      <th>2</th>\n",
       "      <th>3</th>\n",
       "      <th>4</th>\n",
       "      <th>5</th>\n",
       "      <th>6</th>\n",
       "      <th>7</th>\n",
       "      <th>8</th>\n",
       "      <th>9</th>\n",
       "      <th>...</th>\n",
       "      <th>16643</th>\n",
       "      <th>16644</th>\n",
       "      <th>16645</th>\n",
       "      <th>16646</th>\n",
       "      <th>16647</th>\n",
       "      <th>16648</th>\n",
       "      <th>16649</th>\n",
       "      <th>16650</th>\n",
       "      <th>16651</th>\n",
       "      <th>16652</th>\n",
       "    </tr>\n",
       "  </thead>\n",
       "  <tbody>\n",
       "    <tr>\n",
       "      <th>num_pushers</th>\n",
       "      <td>738</td>\n",
       "      <td>217</td>\n",
       "      <td>201</td>\n",
       "      <td>152</td>\n",
       "      <td>182</td>\n",
       "      <td>312</td>\n",
       "      <td>3082</td>\n",
       "      <td>1215</td>\n",
       "      <td>938</td>\n",
       "      <td>647</td>\n",
       "      <td>...</td>\n",
       "      <td>1165</td>\n",
       "      <td>1006</td>\n",
       "      <td>810</td>\n",
       "      <td>186</td>\n",
       "      <td>167</td>\n",
       "      <td>144</td>\n",
       "      <td>136</td>\n",
       "      <td>238</td>\n",
       "      <td>337</td>\n",
       "      <td>174</td>\n",
       "    </tr>\n",
       "    <tr>\n",
       "      <th>spdx_license</th>\n",
       "      <td>MIT</td>\n",
       "      <td>NOASSERTION</td>\n",
       "      <td>Apache-2.0</td>\n",
       "      <td>GPL-3.0</td>\n",
       "      <td>MIT</td>\n",
       "      <td>MIT</td>\n",
       "      <td>MIT</td>\n",
       "      <td>GPL-3.0</td>\n",
       "      <td>NOASSERTION</td>\n",
       "      <td>Apache-2.0</td>\n",
       "      <td>...</td>\n",
       "      <td>Apache-2.0</td>\n",
       "      <td>NOASSERTION</td>\n",
       "      <td>GPL-3.0</td>\n",
       "      <td>BSD-3-Clause</td>\n",
       "      <td>AGPL-3.0</td>\n",
       "      <td>GPL-2.0</td>\n",
       "      <td>CC0-1.0</td>\n",
       "      <td>MIT</td>\n",
       "      <td>MIT</td>\n",
       "      <td>Apache-2.0</td>\n",
       "    </tr>\n",
       "    <tr>\n",
       "      <th>iso2_code</th>\n",
       "      <td>AE</td>\n",
       "      <td>AE</td>\n",
       "      <td>AE</td>\n",
       "      <td>AE</td>\n",
       "      <td>AL</td>\n",
       "      <td>AM</td>\n",
       "      <td>AR</td>\n",
       "      <td>AR</td>\n",
       "      <td>AR</td>\n",
       "      <td>AR</td>\n",
       "      <td>...</td>\n",
       "      <td>ZA</td>\n",
       "      <td>ZA</td>\n",
       "      <td>ZA</td>\n",
       "      <td>ZA</td>\n",
       "      <td>ZA</td>\n",
       "      <td>ZA</td>\n",
       "      <td>ZA</td>\n",
       "      <td>ZM</td>\n",
       "      <td>ZW</td>\n",
       "      <td>ZW</td>\n",
       "    </tr>\n",
       "    <tr>\n",
       "      <th>year</th>\n",
       "      <td>2020</td>\n",
       "      <td>2020</td>\n",
       "      <td>2020</td>\n",
       "      <td>2020</td>\n",
       "      <td>2020</td>\n",
       "      <td>2020</td>\n",
       "      <td>2020</td>\n",
       "      <td>2020</td>\n",
       "      <td>2020</td>\n",
       "      <td>2020</td>\n",
       "      <td>...</td>\n",
       "      <td>2024</td>\n",
       "      <td>2024</td>\n",
       "      <td>2024</td>\n",
       "      <td>2024</td>\n",
       "      <td>2024</td>\n",
       "      <td>2024</td>\n",
       "      <td>2024</td>\n",
       "      <td>2024</td>\n",
       "      <td>2024</td>\n",
       "      <td>2024</td>\n",
       "    </tr>\n",
       "    <tr>\n",
       "      <th>quarter</th>\n",
       "      <td>1</td>\n",
       "      <td>1</td>\n",
       "      <td>1</td>\n",
       "      <td>1</td>\n",
       "      <td>1</td>\n",
       "      <td>1</td>\n",
       "      <td>1</td>\n",
       "      <td>1</td>\n",
       "      <td>1</td>\n",
       "      <td>1</td>\n",
       "      <td>...</td>\n",
       "      <td>4</td>\n",
       "      <td>4</td>\n",
       "      <td>4</td>\n",
       "      <td>4</td>\n",
       "      <td>4</td>\n",
       "      <td>4</td>\n",
       "      <td>4</td>\n",
       "      <td>4</td>\n",
       "      <td>4</td>\n",
       "      <td>4</td>\n",
       "    </tr>\n",
       "  </tbody>\n",
       "</table>\n",
       "<p>5 rows × 16653 columns</p>\n",
       "</div>"
      ],
      "text/plain": [
       "             0            1           2        3     4     5     6      \\\n",
       "num_pushers    738          217         201      152   182   312  3082   \n",
       "spdx_license   MIT  NOASSERTION  Apache-2.0  GPL-3.0   MIT   MIT   MIT   \n",
       "iso2_code       AE           AE          AE       AE    AL    AM    AR   \n",
       "year          2020         2020        2020     2020  2020  2020  2020   \n",
       "quarter          1            1           1        1     1     1     1   \n",
       "\n",
       "                7            8           9      ...       16643        16644  \\\n",
       "num_pushers      1215          938         647  ...        1165         1006   \n",
       "spdx_license  GPL-3.0  NOASSERTION  Apache-2.0  ...  Apache-2.0  NOASSERTION   \n",
       "iso2_code          AR           AR          AR  ...          ZA           ZA   \n",
       "year             2020         2020        2020  ...        2024         2024   \n",
       "quarter             1            1           1  ...           4            4   \n",
       "\n",
       "                16645         16646     16647    16648    16649 16650 16651  \\\n",
       "num_pushers       810           186       167      144      136   238   337   \n",
       "spdx_license  GPL-3.0  BSD-3-Clause  AGPL-3.0  GPL-2.0  CC0-1.0   MIT   MIT   \n",
       "iso2_code          ZA            ZA        ZA       ZA       ZA    ZM    ZW   \n",
       "year             2024          2024      2024     2024     2024  2024  2024   \n",
       "quarter             4             4         4        4        4     4     4   \n",
       "\n",
       "                   16652  \n",
       "num_pushers          174  \n",
       "spdx_license  Apache-2.0  \n",
       "iso2_code             ZW  \n",
       "year                2024  \n",
       "quarter                4  \n",
       "\n",
       "[5 rows x 16653 columns]"
      ]
     },
     "execution_count": 2,
     "metadata": {},
     "output_type": "execute_result"
    }
   ],
   "source": [
    "df = pd.read_csv('https://raw.githubusercontent.com/github/innovationgraph/refs/heads/main/data/licenses.csv')\n",
    "df.T"
   ]
  },
  {
   "cell_type": "code",
   "execution_count": 3,
   "id": "f7f2aeca",
   "metadata": {},
   "outputs": [
    {
     "data": {
      "text/plain": [
       "year\n",
       "2024    3714\n",
       "2023    3591\n",
       "2022    3410\n",
       "2021    3108\n",
       "2020    2830\n",
       "Name: count, dtype: int64"
      ]
     },
     "execution_count": 3,
     "metadata": {},
     "output_type": "execute_result"
    }
   ],
   "source": [
    "df['year'].value_counts()"
   ]
  },
  {
   "cell_type": "code",
   "execution_count": 4,
   "id": "552d7d76",
   "metadata": {},
   "outputs": [
    {
     "data": {
      "text/plain": [
       "spdx_license\n",
       "MIT                   45.524597\n",
       "Apache-2.0            14.832617\n",
       "NOASSERTION           13.877011\n",
       "GPL-3.0               12.148554\n",
       "BSD-3-Clause           2.516880\n",
       "AGPL-3.0               2.321252\n",
       "GPL-2.0                2.210562\n",
       "CC0-1.0                1.275173\n",
       "Unlicense              1.152461\n",
       "MPL-2.0                0.798261\n",
       "BSD-2-Clause           0.761541\n",
       "LGPL-3.0               0.646454\n",
       "CC-BY-4.0              0.512374\n",
       "LGPL-2.1               0.395193\n",
       "ISC                    0.243070\n",
       "CC-BY-SA-4.0           0.195062\n",
       "0BSD                   0.142883\n",
       "EPL-2.0                0.116280\n",
       "WTFPL                  0.077178\n",
       "MIT-0                  0.052130\n",
       "BSL-1.0                0.047133\n",
       "BSD-3-Clause-Clear     0.042352\n",
       "EPL-1.0                0.034282\n",
       "Zlib                   0.031490\n",
       "EUPL-1.2               0.024812\n",
       "UPL-1.0                0.006931\n",
       "MulanPSL-2.0           0.006028\n",
       "Artistic-2.0           0.003819\n",
       "OFL-1.1                0.003390\n",
       "OSL-3.0                0.000227\n",
       "Name: num_pushers, dtype: float64"
      ]
     },
     "execution_count": 4,
     "metadata": {},
     "output_type": "execute_result"
    }
   ],
   "source": [
    "df.groupby('spdx_license')['num_pushers'].sum().sort_values(\n",
    "    ascending=False\n",
    ") / df['num_pushers'].sum() * 100"
   ]
  },
  {
   "cell_type": "code",
   "execution_count": 5,
   "id": "5c562025",
   "metadata": {},
   "outputs": [],
   "source": [
    "df['license_classification'] = df['spdx_license'].replace(\n",
    "    {'MIT': 'Attribution',\n",
    "     'GPL-3.0': 'Copyleft',\n",
    "     'Apache-2.0': 'Attribution',\n",
    "     'NOASSERTION': 'No license',\n",
    "     'BSD-3-Clause': 'Attribution',\n",
    "     'GPL-2.0': 'Copyleft',\n",
    "     'AGPL-3.0': 'Copyleft',\n",
    "     'Unlicense': '0',\n",
    "     'CC0-1.0': '0',\n",
    "     'MPL-2.0': 'Copyleft',\n",
    "     'BSD-2-Clause': 'Attribution',\n",
    "     'LGPL-3.0': 'Copyleft',\n",
    "     'CC-BY-4.0': 'Attribution',\n",
    "     'LGPL-2.1': 'Copyleft',\n",
    "     'ISC': 'Attribution',\n",
    "     'CC-BY-SA-4.0': 'Attribution',\n",
    "     '0BSD': '0',\n",
    "     'EPL-2.0': 'Copyleft',\n",
    "     'WTFPL': '0',\n",
    "     'BSL-1.0': 'Proprietary',\n",
    "     'Zlib': 'Attribution',\n",
    "     'EPL-1.0': 'Copyleft',\n",
    "     'MIT-0': '0',\n",
    "     'EUPL-1.2': 'Copyleft',\n",
    "     'BSD-3-Clause-Clear': 'Attribution',\n",
    "     'UPL-1.0': 'Attribution',\n",
    "     'Artistic-2.0': 'Attribution',\n",
    "     'MulanPSL-2.0': 'Attribution',\n",
    "     'OFL-1.1': 'Copyleft',\n",
    "     'OSL-3.0': 'Copyleft',\n",
    "    }\n",
    ")"
   ]
  },
  {
   "cell_type": "code",
   "execution_count": 6,
   "id": "2237ec56",
   "metadata": {},
   "outputs": [
    {
     "data": {
      "text/plain": [
       "license_classification\n",
       "Attribution    7143\n",
       "Copyleft       5614\n",
       "0              2070\n",
       "No license     1727\n",
       "Proprietary      99\n",
       "Name: count, dtype: int64"
      ]
     },
     "execution_count": 6,
     "metadata": {},
     "output_type": "execute_result"
    }
   ],
   "source": [
    "df['license_classification'].value_counts()"
   ]
  },
  {
   "cell_type": "code",
   "execution_count": 7,
   "id": "6a172b5c",
   "metadata": {},
   "outputs": [
    {
     "data": {
      "text/plain": [
       "license_classification\n",
       "Attribution    64.68\n",
       "Copyleft       18.70\n",
       "No license     13.88\n",
       "0               2.70\n",
       "Proprietary     0.05\n",
       "Name: num_pushers, dtype: float64"
      ]
     },
     "execution_count": 7,
     "metadata": {},
     "output_type": "execute_result"
    }
   ],
   "source": [
    "(df.groupby('license_classification')['num_pushers'].sum().sort_values(\n",
    "    ascending=False\n",
    ") / df['num_pushers'].sum() * 100).round(2)"
   ]
  },
  {
   "cell_type": "code",
   "execution_count": 8,
   "id": "2d8f9f5f",
   "metadata": {},
   "outputs": [],
   "source": [
    "yq = pd.PeriodIndex.from_fields(year=df['year'],\n",
    "                                                quarter=df['quarter'])\n",
    "# df['datetime'] = df['year-quarter'].to_timestamp()\n",
    "df['datetime'] = yq.to_timestamp()"
   ]
  },
  {
   "cell_type": "code",
   "execution_count": 9,
   "id": "e9c478a5",
   "metadata": {},
   "outputs": [],
   "source": [
    "by_license = df.groupby(['license_classification'])"
   ]
  },
  {
   "cell_type": "code",
   "execution_count": 10,
   "id": "e9387c5e",
   "metadata": {},
   "outputs": [
    {
     "data": {
      "text/plain": [
       "<matplotlib.legend.Legend at 0x113fca510>"
      ]
     },
     "execution_count": 10,
     "metadata": {},
     "output_type": "execute_result"
    },
    {
     "data": {
      "image/png": "[encoded data removed]",
      "text/plain": [
       "<Figure size 640x480 with 1 Axes>"
      ]
     },
     "metadata": {},
     "output_type": "display_data"
    }
   ],
   "source": [
    "by_yq_pushers = df.groupby('datetime')['num_pushers'].sum()\n",
    "for label, rows in by_license:\n",
    "    by_dt = rows.groupby('datetime')['num_pushers'].sum() / by_yq_pushers\n",
    "    by_dt.plot(label=label)\n",
    "plt.legend()"
   ]
  }
 ],
 "metadata": {
  "jupytext": {
   "notebook_metadata_filter": "all,-language_info",
   "split_at_heading": true
  },
  "kernelspec": {
   "display_name": "Python 3 (ipykernel)",
   "language": "python",
   "name": "python3"
  },
  "language_info": {
   "codemirror_mode": {
    "name": "ipython",
    "version": 3
   },
   "file_extension": ".py",
   "mimetype": "text/x-python",
   "name": "python",
   "nbconvert_exporter": "python",
   "pygments_lexer": "ipython3",
   "version": "3.12.7"
  }
 },
 "nbformat": 4,
 "nbformat_minor": 5
}
